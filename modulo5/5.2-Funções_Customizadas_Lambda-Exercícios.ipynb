{
 "cells": [
  {
   "cell_type": "markdown",
   "id": "cbdff5a5",
   "metadata": {},
   "source": [
    "# Módulo 5 - Funções\n",
    "\n",
    "## Aulas 5.2 - Funções Customizadas e 5.4 Funções ```lambda```"
   ]
  },
  {
   "cell_type": "markdown",
   "id": "28a3fee2",
   "metadata": {},
   "source": [
    "### Q1.\n",
    "\n",
    "- Sabendo que o código a seguir calcula o fatorial de n, escreva uma função chamada ```fatorial()``` que recebe um inteiro ```n``` como parâmetro e retorna o resultado do fatorial de ```n```. \n",
    "- No programa principal, peça ao usuário o valor de ```n```, chame a sua função e imprima o retorno.\n",
    "\n",
    "```python\n",
    "fat = 1\n",
    "for i in range(1, n+1):\n",
    "    fat *= i \n",
    "```"
   ]
  },
  {
   "cell_type": "code",
   "execution_count": 12,
   "id": "d126b3a5",
   "metadata": {},
   "outputs": [],
   "source": [
    "## Crie aqui a função fatorial()\n",
    "## lembre-se de executar a célula para que \n",
    "## a função passe a existir e possa ser chamada\n",
    "def fatorial(n):\n",
    "    fat = 1\n",
    "    for i in range(1, n+1):\n",
    "        fat *= i\n",
    "    return fat"
   ]
  },
  {
   "cell_type": "code",
   "execution_count": 16,
   "id": "6e4fe64e",
   "metadata": {},
   "outputs": [
    {
     "name": "stdout",
     "output_type": "stream",
     "text": [
      "362880\n"
     ]
    }
   ],
   "source": [
    "## Escreva aqui o programa principal e execute a célula\n",
    "num = int(input('Digite o valor de n: '))\n",
    "print(fatorial(num))"
   ]
  },
  {
   "cell_type": "markdown",
   "id": "c0a1f599",
   "metadata": {},
   "source": [
    "### Q2.\n",
    "\n",
    "- Escreva uma função em Python chamada ```soma_quadrados``` que recebe dois números como parâmetros e retorna a soma dos seus quadrados. \n",
    "- No programa principal solicite ao usuário que insira dois números e utilize a função para exibir a soma dos quadrados."
   ]
  },
  {
   "cell_type": "code",
   "execution_count": 14,
   "id": "6dbddaad",
   "metadata": {},
   "outputs": [],
   "source": [
    "## Crie aqui a função soma_quadrados()\n",
    "def soma_quadrados(x,y):\n",
    "    soma = x*x + y*y\n",
    "    return soma"
   ]
  },
  {
   "cell_type": "code",
   "execution_count": 17,
   "id": "9175a7da",
   "metadata": {},
   "outputs": [
    {
     "name": "stdout",
     "output_type": "stream",
     "text": [
      "5\n"
     ]
    }
   ],
   "source": [
    "## Escreva aqui o programa principal e execute a célula\n",
    "num1 = int(input(\"Digite o primeiro numero: \"))\n",
    "num2 = int(input(\"Digite o segundo numero: \"))\n",
    "\n",
    "print(soma_quadrados(num1, num2))"
   ]
  },
  {
   "cell_type": "markdown",
   "id": "6ba34ce0",
   "metadata": {},
   "source": [
    "### Q3.\n",
    "\n",
    "- Crie uma função em Python chamada ```soma_digitos``` que recebe um número inteiro como parâmetro e retorna a soma dos seus dígitos. Por exemplo, para o número 123, a função deve retornar 6, $(1 + 2 + 3)$.\n",
    "    - O desafio aqui é separar os dígitos de um número inteiro usando operações aritméticas <br> <br>\n",
    "\n",
    "- No programa principal solicite ao usuário que insira um número e utilize a função ```soma_digitos``` para calcular e exibir a soma dos seus dígitos."
   ]
  },
  {
   "cell_type": "code",
   "execution_count": 24,
   "id": "34838ebf",
   "metadata": {},
   "outputs": [],
   "source": [
    "## Crie aqui a função soma_digitos()\n",
    "def soma_digitos(x):\n",
    "    soma = 0\n",
    "    while(x > 0):\n",
    "        soma += x % 10\n",
    "        x = int(x /10)\n",
    "    return soma"
   ]
  },
  {
   "cell_type": "code",
   "execution_count": 25,
   "id": "27c35b21",
   "metadata": {},
   "outputs": [
    {
     "name": "stdout",
     "output_type": "stream",
     "text": [
      "6\n"
     ]
    }
   ],
   "source": [
    "## Escreva aqui o programa principal e execute a célula\n",
    "num = int(input('Digite o numero: '))\n",
    "print(soma_digitos(num))\n"
   ]
  },
  {
   "cell_type": "markdown",
   "id": "c318b159",
   "metadata": {},
   "source": [
    "### Q4.\n",
    "\n",
    "- Crie a função ```inverteValor()``` que recebe um inteiro de qualquer tamanho e retorna esse valor invertido usando apenas operações aritméticas\n",
    "- Crie a função ```verificaInverso()``` que recebe o valor original e o valor invertido e retorna verdadeiro se ambos forem igualmente par ou igualmente ímpar. Retorne falso caso contrário.\n",
    "- No programa principal, peça um valor do usuário e imprima o retorno de ambas as funções.\n"
   ]
  },
  {
   "cell_type": "code",
   "execution_count": 46,
   "id": "e4e47d1d",
   "metadata": {},
   "outputs": [],
   "source": [
    "## Crie aqui as funções inverteValor() e verificaInverso()\n",
    "def inverteValor(x):\n",
    "    auxX = x\n",
    "    numInvertido = 0\n",
    "    i = 0\n",
    "    while(auxX > 0):\n",
    "        aux1 = auxX % 10\n",
    "        auxX = int(auxX / 10)\n",
    "        i += 1\n",
    "    while(x > 0):\n",
    "        i -= 1\n",
    "        aux = x % 10\n",
    "        numInvertido += aux * 10**i\n",
    "        x = int(x / 10)\n",
    "    return numInvertido\n",
    "\n",
    "def verificaInverso(x,y):\n",
    "    aux1 = x % 2\n",
    "    aux2 = y % 2\n",
    "\n",
    "    if(aux1 == aux2):\n",
    "        return True\n",
    "    else: return False\n"
   ]
  },
  {
   "cell_type": "code",
   "execution_count": 48,
   "id": "a9514e56",
   "metadata": {},
   "outputs": [
    {
     "name": "stdout",
     "output_type": "stream",
     "text": [
      "654321\n",
      "False\n"
     ]
    }
   ],
   "source": [
    "## Escreva aqui o programa principal e execute a célula\n",
    "num = int(input('Digite o numero: '))\n",
    "numIvertido = inverteValor(num)\n",
    "print(numIvertido)\n",
    "\n",
    "print(verificaInverso(numIvertido, num))"
   ]
  },
  {
   "cell_type": "markdown",
   "id": "329be966",
   "metadata": {},
   "source": [
    "### Q5.\n",
    "\n",
    "Você está desenvolvendo um programa para auxiliar em cálculos de geometria básica. Crie as seguintes funções:\n",
    "- A função ```calcula_perimetro_triangulo()``` que recebe três inteiros correspondentes aos lados de um triângulo e retorna o perímetro do triângulo, ou seja, a soma dos seus lados.\n",
    "- A função ```calcula_perimetro_circulo()``` que recebe um inteiro referente ao raio do círculo e retorna o perímetro do círculo, dado por $2 \\pi r$. Use a constante $\\pi$ da biblioteca ```math```.\n",
    "- A função ```calcula_perimetro_retangulo()``` que possui um parâmetro obrigatório ```lado1``` e um opcional ```lado2```, ambos inteiros. Se o valor opcional não for fornecido, significa que se trata de um quadrado. Sua função deve calcular e retornar o perímetro do retângulo, ou seja, a soma de seus lados. \n",
    "    - Para o quadrado, é dado por $4 \\times lado1$\n",
    "    - Para o retângulo é dado por $2 \\times lado1 + 2 \\times lado2$\n",
    "    \n",
    "- No programa principal apresente um menu com as opções disponíveis do seu sistema e uma quarta opção ```Sair```. Solicite ao usuário a opção desejada, solicite as entradas correspondentes à opção escolhida, invoque a respective função e apresente o seu retorno. Seu programa deve retornar ao menu até que o usuário escolha a opção ```Sair```\n",
    "\n",
    "Exemplo de interação:\n",
    "```\n",
    "1 - Calcular perímetro triângulo\n",
    "2 - Calcular perímetro círculo\n",
    "3 - Calcular perímetro retângulo\n",
    "4 - Sair\n",
    "\n",
    "Opção: 1\n",
    "Digite os três lados do triângulo:\n",
    "3\n",
    "4\n",
    "5\n",
    "O perímetro é: 12\n",
    "\n",
    "1 - Calcular perímetro triângulo\n",
    "2 - Calcular perímetro círculo\n",
    "3 - Calcular perímetro retângulo\n",
    "4 - Sair\n",
    "\n",
    "Opção: 3\n",
    "Informe os dois lados do retângulo. Se for um quadrado, digite 0 para o segundo valor:\n",
    "5\n",
    "0\n",
    "O perímetro é: 20\n",
    "\n",
    "1 - Calcular perímetro triângulo\n",
    "2 - Calcular perímetro círculo\n",
    "3 - Calcular perímetro retângulo\n",
    "4 - Sair\n",
    "\n",
    "Opção: 4\n",
    "```"
   ]
  },
  {
   "cell_type": "code",
   "execution_count": 50,
   "id": "0793d328",
   "metadata": {},
   "outputs": [],
   "source": [
    "## Crie aqui as funções \n",
    "import math\n",
    "\n",
    "def calcula_perimetro_triangulo(x, y, z):\n",
    "    return(x+y+z)\n",
    "\n",
    "def calcula_perimetro_circulo(r):\n",
    "    return(2 * math.pi * r)\n",
    "\n",
    "\n",
    "def calcula_perimetro_retangulo(x, y):\n",
    "    if y == 0:\n",
    "        return(4*x)\n",
    "    else: return(2*x + 2*y)\n",
    "\n"
   ]
  },
  {
   "cell_type": "code",
   "execution_count": 59,
   "id": "36269c71",
   "metadata": {},
   "outputs": [
    {
     "name": "stdout",
     "output_type": "stream",
     "text": [
      "1 - Calcular perímetro triângulo \n",
      "2 - Calcular perímetro círculo \n",
      "3 - Calcular perímetro retângulo \n",
      "4 - Sair\n",
      "Informe os dois lados do retângulo. Se for um quadrado, digite 0 para o segundo valor: \n",
      "\n",
      "O perímetro é:  10\n",
      "\n",
      "1 - Calcular perímetro triângulo \n",
      "2 - Calcular perímetro círculo \n",
      "3 - Calcular perímetro retângulo \n",
      "4 - Sair\n",
      "Digite 1, 2, 3 ou 4.\n",
      "1 - Calcular perímetro triângulo \n",
      "2 - Calcular perímetro círculo \n",
      "3 - Calcular perímetro retângulo \n",
      "4 - Sair\n"
     ]
    }
   ],
   "source": [
    "## Escreva aqui o programa principal \n",
    "op = 0\n",
    "while op != 4:\n",
    "    print(\"1 - Calcular perímetro triângulo \\n2 - Calcular perímetro círculo \\n3 - Calcular perímetro retângulo \\n4 - Sair\")\n",
    "    op = int(input(\"Opção: \"))\n",
    "    if op == 1:\n",
    "        print(\"Digite os três lados do triângulo: \\n\")\n",
    "        x, y, z = int(input()), int(input()), int(input())\n",
    "        print(f\"O perímetro é:  {calcula_perimetro_triangulo(x,y,z)} \\n\")\n",
    "        continue\n",
    "    elif op == 2:\n",
    "        print(\"Digite o raio do circulo: \\n\")\n",
    "        r = int(input())\n",
    "        print(f\"O perímetro é:  {calcula_perimetro_circulo(r)}\\n\")\n",
    "        continue\n",
    "    elif op == 3:\n",
    "        print(\"Informe os dois lados do retângulo. Se for um quadrado, digite 0 para o segundo valor: \\n\")\n",
    "        x, y = int(input()), int(input())\n",
    "        print(f\"O perímetro é:  {calcula_perimetro_retangulo(x,y)}\\n\")\n",
    "        continue\n",
    "    elif op == 4:\n",
    "        break\n",
    "    else:\n",
    "        print(\"Digite 1, 2, 3 ou 4.\")\n",
    "        continue"
   ]
  },
  {
   "cell_type": "markdown",
   "id": "3016bcc7",
   "metadata": {},
   "source": [
    "## Funções ```lambda```"
   ]
  },
  {
   "cell_type": "markdown",
   "id": "f9cdb8dd",
   "metadata": {},
   "source": [
    "### Q6.\n",
    "\n",
    "Crie uma função lambda para verificar se um número é par ou ímpar. Em seguida, solicite ao usuário um número indefinidos de valores (até que o usuário digite 0). Para cada valor de entrada, informe se é par ou ímpar.\n",
    "\n",
    "Exemplo de interação:\n",
    "```\n",
    "Digite os valores que deseja verificar a paridade (digite 0 para finalizar a entrada de dados):\n",
    "3\n",
    "ímpar\n",
    "8\n",
    "par\n",
    "12\n",
    "par\n",
    "5\n",
    "ímpar\n",
    "7ímpar\n",
    "```"
   ]
  },
  {
   "cell_type": "code",
   "execution_count": 65,
   "id": "e3c31a78",
   "metadata": {},
   "outputs": [
    {
     "name": "stdout",
     "output_type": "stream",
     "text": [
      "Digite os valores que deseja verificar a paridade (digite 0 para finalizar a entrada de dados):\n"
     ]
    },
    {
     "name": "stdout",
     "output_type": "stream",
     "text": [
      "ímpar\n",
      "ímpar\n",
      "par\n",
      "ímpar\n",
      "par\n",
      "ímpar\n",
      "par\n",
      "par\n",
      "par\n"
     ]
    }
   ],
   "source": [
    "verificarParidade = lambda x: 'par' if x % 2 == 0 else 'ímpar'\n",
    "print(\"Digite os valores que deseja verificar a paridade (digite 0 para finalizar a entrada de dados):\")\n",
    "while True:\n",
    "        numero = int(input())\n",
    "        if numero == 0:\n",
    "            break\n",
    "        resultado = verificarParidade(numero)\n",
    "        print(resultado)"
   ]
  },
  {
   "cell_type": "markdown",
   "id": "5a87474d",
   "metadata": {},
   "source": [
    "### Q7.\n",
    "\n",
    "Escreva um programa que pergunte ao usuário qual operação ele deseja: maior ou menor.\n",
    "Em seguida leia uma quantidade indefinida de valores do usuário, até que o usuário digite o valor zero.\n",
    "Apresente ao final o maior ou menor dos valores digitados de acordo com a escolha do usuário.\n",
    "\n",
    "**Sua solução deve incluir pelo menos uma função ```lambda```** \n",
    "\n",
    "Exemplo de interação:\n",
    "```\n",
    "Opções: (1) maior ou (2) menor?\n",
    "Opção: 1\n",
    "\n",
    "Digite os valores de entrada. Digite 0 para finalizar a entrada de valores.\n",
    "4\n",
    "12\n",
    "15\n",
    "1\n",
    "0\n",
    "\n",
    "O maior valor é: 15\n",
    "```"
   ]
  },
  {
   "cell_type": "code",
   "execution_count": 75,
   "id": "ee3f68ca",
   "metadata": {},
   "outputs": [
    {
     "name": "stdout",
     "output_type": "stream",
     "text": [
      "Digite 1 ou 2.\n",
      "1\n"
     ]
    }
   ],
   "source": [
    "## Escreva aqui o programa principal \n",
    "op = int(input(\"Opções: (1) maior ou (2) menor?\"))\n",
    "if op == 1:\n",
    "      result = float(\"-inf\")\n",
    "      funcao = lambda x,y: x>y\n",
    "elif op == 2:\n",
    "      result = float(\"inf\")\n",
    "      funcao = lambda x,y: x<y\n",
    "else: \n",
    "     print(\"Digite 1 ou 2.\")\n",
    "\n",
    "while True:\n",
    "    num = int(input())\n",
    "    if num == 0:\n",
    "        break\n",
    "    if funcao(num, result):\n",
    "        result = num\n",
    "print(result)\n"
   ]
  }
 ],
 "metadata": {
  "kernelspec": {
   "display_name": "Python 3 (ipykernel)",
   "language": "python",
   "name": "python3"
  },
  "language_info": {
   "codemirror_mode": {
    "name": "ipython",
    "version": 3
   },
   "file_extension": ".py",
   "mimetype": "text/x-python",
   "name": "python",
   "nbconvert_exporter": "python",
   "pygments_lexer": "ipython3",
   "version": "3.12.1"
  }
 },
 "nbformat": 4,
 "nbformat_minor": 5
}
