{
  "cells": [
    {
      "cell_type": "markdown",
      "metadata": {
        "id": "1pCTdOHonv5f"
      },
      "source": [
        "# Módulo 2\n",
        "\n",
        "## 2.3 Instruções e Expressões\n",
        "\n",
        "### Q1\n",
        "\n",
        "Faça um programa que armazene o valor de 20 reais de salário por hora de um trabalhador, e o número de 40 horas trabalhadas na semana. Com essas informações, calcule e imprima:\n",
        "- Salário semanal bruto\n",
        "- Valor descontado por semana INSS (10% do bruto)\n",
        "- Valor descontado por semana pelo sindicato (5% do bruto)\n",
        "- Salário semanal líquido (Bruto - Descontos)"
      ]
    },
    {
      "cell_type": "code",
      "execution_count": 1,
      "metadata": {
        "id": "hVbX0I97nj6M"
      },
      "outputs": [
        {
          "name": "stdout",
          "output_type": "stream",
          "text": [
            "Salário semanal bruto:  800\n",
            "Desconto do INSS:  80.0\n",
            "Desconto de sidicato:  40.0\n",
            "Salário semanal líquido:  680.0\n"
          ]
        }
      ],
      "source": [
        "salario_hora = 20\n",
        "horas_semana = 40\n",
        "\n",
        "salario_semanal = salario_hora * horas_semana\n",
        "print(\"Salário semanal bruto: \", salario_semanal)\n",
        "\n",
        "inss = salario_semanal * 0.1\n",
        "print(\"Desconto do INSS: \", inss)\n",
        "\n",
        "sindicato = salario_semanal * 0.05\n",
        "print(\"Desconto de sidicato: \", sindicato)\n",
        "\n",
        "salario_semanal_liquido = salario_semanal - inss - sindicato\n",
        "print(\"Salário semanal líquido: \", salario_semanal_liquido)"
      ]
    },
    {
      "cell_type": "markdown",
      "metadata": {
        "id": "pIxKX9J2oGZ1"
      },
      "source": [
        "### Q2\n",
        "\n",
        "Altere o programa anterior para a partir dos valores de horas trabalhadas por semana e salário por hora, calcular **em somente duas instruções**:\n",
        "- Salário semanal bruto\n",
        "- Salário semanal líquido com todos os descontos. Para a segunda instrução, realize todos os cálculos aritméticos em uma expressão composta.\n"
      ]
    },
    {
      "cell_type": "code",
      "execution_count": 2,
      "metadata": {
        "id": "pAHw9Xf9oGoi"
      },
      "outputs": [
        {
          "name": "stdout",
          "output_type": "stream",
          "text": [
            "Salário semanal bruto:  800\n",
            "Salário semanal líquido:  680.0\n"
          ]
        }
      ],
      "source": [
        "salario_hora = 20\n",
        "horas_semana = 40\n",
        "\n",
        "salario_semanal = salario_hora * horas_semana\n",
        "print(\"Salário semanal bruto: \", salario_semanal)\n",
        "\n",
        "salario_semanal_liquido = salario_semanal * (1-0.1-0.05)\n",
        "print(\"Salário semanal líquido: \", salario_semanal_liquido)"
      ]
    },
    {
      "cell_type": "markdown",
      "metadata": {
        "id": "m8tlHRuWpBOB"
      },
      "source": [
        "### Q3\n",
        "\n",
        "Você está desenvolvendo um software de conversão de moeda e precisa calcular o valor equivalente em yuan chinês a partir de uma quantia em real. A taxa de câmbio é de 0.69 BRL (real) para 1 CNY (yuan). Escreva um programa que define em uma variável uma quantia em reais (BRL) e calcula o valor equivalente em yuan (CNY). Imprima o resultado."
      ]
    },
    {
      "cell_type": "code",
      "execution_count": 3,
      "metadata": {
        "id": "2bPw7uF6oeL9"
      },
      "outputs": [
        {
          "name": "stdout",
          "output_type": "stream",
          "text": [
            "R$ 1000.0 equivale a  1449.2753623188407 em yuan.\n"
          ]
        }
      ],
      "source": [
        "real = 1000.\n",
        "yuan = real/0.69\n",
        "\n",
        "print(\"R$\", real, \"equivale a \", yuan, \"em yuan.\")"
      ]
    },
    {
      "cell_type": "markdown",
      "metadata": {
        "id": "-Na3ltDCp74A"
      },
      "source": [
        "### Q4\n",
        "\n",
        "Você é um treinador de corrida e deseja calcular a velocidade média que um atleta precisa manter para completar a Maratona Internacional de São Silvestre, que tem uma distância total de 42.195 km. A fórmula para calcular a velocidade média ($v\\_media$) é dada por $v\\_media = \\frac{distancia}{tempo}$ . Escreva um programa em Python para calcular a velocidade média necessária para completar a maratona em 3 horas.\n",
        "\n",
        "**Calcule e imprima o resultado em metros/segundo**, ou seja, converta a distância de quilômetros para metros ($metro = \\frac{km}{1000}$) e a velocidade de horas para segundos $(segundo = \\frac{hora}{3600})$."
      ]
    },
    {
      "cell_type": "code",
      "execution_count": 5,
      "metadata": {
        "id": "Bn6l8kcSrE4L"
      },
      "outputs": [
        {
          "name": "stdout",
          "output_type": "stream",
          "text": [
            "Velocidade média:  3906.9444444444443 m/s.\n"
          ]
        }
      ],
      "source": [
        "km_total = 42195\n",
        "h_total = 3\n",
        "\n",
        "m_total = km_total * 1000\n",
        "s_total = h_total * 3600\n",
        "\n",
        "v_media = m_total / s_total\n",
        "\n",
        "print(\"Velocidade média: \", v_media, \"m/s.\")"
      ]
    }
  ],
  "metadata": {
    "colab": {
      "provenance": []
    },
    "kernelspec": {
      "display_name": "Python 3",
      "name": "python3"
    },
    "language_info": {
      "codemirror_mode": {
        "name": "ipython",
        "version": 3
      },
      "file_extension": ".py",
      "mimetype": "text/x-python",
      "name": "python",
      "nbconvert_exporter": "python",
      "pygments_lexer": "ipython3",
      "version": "3.12.1"
    }
  },
  "nbformat": 4,
  "nbformat_minor": 0
}
